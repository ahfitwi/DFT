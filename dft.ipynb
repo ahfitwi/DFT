# 1. The Discrete Fourier Transform
The Discrete Fourier Transform The FFT is a fast, O[NlogN]
 algorithm to compute the Discrete Fourier Transform (DFT), which naively is an O[N2]
 computation. The DFT, like the more familiar continuous version of the Fourier transform, has a forward and inverse form which are defined as follows:
